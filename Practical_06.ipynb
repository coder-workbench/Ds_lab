{
 "cells": [
  {
   "cell_type": "code",
   "execution_count": 7,
   "id": "185d8c39",
   "metadata": {},
   "outputs": [
    {
     "name": "stdout",
     "output_type": "stream",
     "text": [
      "[0.9897704]\n"
     ]
    }
   ],
   "source": [
    "import numpy as np\n",
    "\n",
    "class NeuralNet:\n",
    "    def __init__(self):\n",
    "        np.random.seed(1)\n",
    "        self.synaptic_weights = 2 * np.random.random((3, 1)) - 1\n",
    "\n",
    "    def sigmoid(self, x):\n",
    "        return 1 / (1 + np.exp(-x))\n",
    "\n",
    "    def sigmoid_derivative(self, x):\n",
    "        return x * (1 - x)\n",
    "\n",
    "    def train(self, inputs, outputs, training_iterations):\n",
    "        for iteration in range(training_iterations):\n",
    "            output = self.learn(inputs)\n",
    "            error = outputs - output\n",
    "            factor = np.dot(inputs.T, error * self.sigmoid_derivative(output))\n",
    "            self.synaptic_weights += factor\n",
    "\n",
    "    def learn(self, inputs):\n",
    "        return self.sigmoid(np.dot(inputs, self.synaptic_weights))\n",
    "\n",
    "if __name__ == \"__main__\":\n",
    "    neural_network = NeuralNet()\n",
    "\n",
    "    # The training set.\n",
    "    inputs = np.array([[0, 1, 1], [1, 0, 0], [1, 0, 1]])\n",
    "    outputs = np.array([[1, 0, 1]]).T\n",
    "\n",
    "    # Train the neural network\n",
    "    neural_network.train(inputs, outputs, 10000)\n",
    "\n",
    "    # Test the neural network with a test example.\n",
    "    print(neural_network.learn(np.array([1, 0, 1])))\n"
   ]
  }
 ],
 "metadata": {
  "kernelspec": {
   "display_name": "Python 3 (ipykernel)",
   "language": "python",
   "name": "python3"
  },
  "language_info": {
   "codemirror_mode": {
    "name": "ipython",
    "version": 3
   },
   "file_extension": ".py",
   "mimetype": "text/x-python",
   "name": "python",
   "nbconvert_exporter": "python",
   "pygments_lexer": "ipython3",
   "version": "3.11.5"
  }
 },
 "nbformat": 4,
 "nbformat_minor": 5
}
