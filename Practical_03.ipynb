{
 "cells": [
  {
   "cell_type": "code",
   "execution_count": 13,
   "id": "6cb2e9ca",
   "metadata": {},
   "outputs": [
    {
     "name": "stdout",
     "output_type": "stream",
     "text": [
      "Enter a number (0 to 9): 8\n",
      "Binary representation of 8: [0, 0, 1, 1, 1, 0, 0, 0]\n",
      "The neural network predicts 8 as Even\n"
     ]
    }
   ],
   "source": [
    "import numpy as np\n",
    "\n",
    "class Perceptron:\n",
    "    def __init__(self, input_size):\n",
    "        self.weights = np.zeros(input_size)\n",
    "        self.bias = 0\n",
    "\n",
    "    def predict(self, inputs):\n",
    "        summation = np.dot(inputs, self.weights) + self.bias\n",
    "        return 1 if summation >= 0 else 0\n",
    "\n",
    "    def train(self, training_inputs, labels, epochs=100, learning_rate=0.1):\n",
    "        for epoch in range(epochs):\n",
    "            for inputs, label in zip(training_inputs, labels):\n",
    "                prediction = self.predict(inputs)\n",
    "                self.weights += learning_rate * (label - prediction) * inputs\n",
    "                self.bias += learning_rate * (label - prediction)\n",
    "\n",
    "def char_to_binary(char):\n",
    "    binary_representation = format(ord(char), '08b')\n",
    "    return [int(bit) for bit in binary_representation]\n",
    "\n",
    "def prepare_data():\n",
    "    training_data = []\n",
    "    labels = []\n",
    "\n",
    "    for i in range(48, 58):  # ASCII values for '0' to '9'\n",
    "        binary_repr = char_to_binary(chr(i))\n",
    "        training_data.append(binary_repr)\n",
    "        labels.append(i % 2)  # 0 for even, 1 for odd\n",
    "\n",
    "    return np.array(training_data), np.array(labels)\n",
    "\n",
    "if __name__ == \"__main__\":\n",
    "    input_size = 8  # 8 bits for ASCII representation\n",
    "    perceptron = Perceptron(input_size)\n",
    "\n",
    "    training_inputs, labels = prepare_data()\n",
    "    perceptron.train(training_inputs, labels, epochs=1000, learning_rate=0.1)\n",
    "\n",
    "    user_input = input(\"Enter a number (0 to 9): \")\n",
    "    \n",
    "    try:\n",
    "        int_user_input = int(user_input)\n",
    "        if 0 <= int_user_input <= 9:\n",
    "            test_input = char_to_binary(str(int_user_input))\n",
    "            result = perceptron.predict(test_input)\n",
    "            print(f'Binary representation of {user_input}: {test_input}')\n",
    "            print(f'The neural network predicts {user_input} as {\"Even\" if result == 0 else \"Odd\"}')\n",
    "        else:\n",
    "            print(\"Please enter a valid number between 0 and 9.\")\n",
    "    except ValueError:\n",
    "        print(\"Invalid input. Please enter a valid number.\")\n"
   ]
  },
  {
   "cell_type": "code",
   "execution_count": 15,
   "id": "445c7d56",
   "metadata": {
    "scrolled": true
   },
   "outputs": [
    {
     "name": "stdout",
     "output_type": "stream",
     "text": [
      "Enter any number: 8\n",
      "Binary representation of 8: [0, 0, 0, 0, 1, 0, 0, 0]\n",
      "The neural network predicts 8 as Even\n"
     ]
    }
   ],
   "source": [
    "import numpy as np\n",
    "\n",
    "class Perceptron:\n",
    "    def __init__(self, input_size):\n",
    "        self.weights = np.zeros(input_size)\n",
    "        self.bias = 0\n",
    "\n",
    "    def predict(self, inputs):\n",
    "        summation = np.dot(inputs, self.weights) + self.bias\n",
    "        return 1 if summation >= 0 else 0\n",
    "\n",
    "    def train(self, training_inputs, labels, epochs=100, learning_rate=0.1):\n",
    "        for epoch in range(epochs):\n",
    "            for inputs, label in zip(training_inputs, labels):\n",
    "                prediction = self.predict(inputs)\n",
    "                self.weights += learning_rate * (label - prediction) * inputs\n",
    "                self.bias += learning_rate * (label - prediction)\n",
    "\n",
    "def int_to_binary(num):\n",
    "    binary_representation = format(num, '08b')\n",
    "    return [int(bit) for bit in binary_representation]\n",
    "\n",
    "def prepare_data():\n",
    "    training_data = []\n",
    "    labels = []\n",
    "\n",
    "    for i in range(0, 256):  # Binary representation of numbers 0 to 255\n",
    "        binary_repr = int_to_binary(i)\n",
    "        training_data.append(binary_repr)\n",
    "        labels.append(i % 2)  # 0 for even, 1 for odd\n",
    "\n",
    "    return np.array(training_data), np.array(labels)\n",
    "\n",
    "if __name__ == \"__main__\":\n",
    "    input_size = 8  # 8 bits for binary representation\n",
    "    perceptron = Perceptron(input_size)\n",
    "\n",
    "    training_inputs, labels = prepare_data()\n",
    "    perceptron.train(training_inputs, labels, epochs=1000, learning_rate=0.1)\n",
    "\n",
    "    user_input = input(\"Enter any number: \")\n",
    "    \n",
    "    try:\n",
    "        int_user_input = int(user_input)\n",
    "        test_input = int_to_binary(int_user_input)\n",
    "        result = perceptron.predict(test_input)\n",
    "        print(f'Binary representation of {user_input}: {test_input}')\n",
    "        print(f'The neural network predicts {user_input} as {\"Even\" if result == 0 else \"Odd\"}')\n",
    "    except ValueError:\n",
    "        print(\"Invalid input. Please enter a valid integer.\")\n"
   ]
  }
 ],
 "metadata": {
  "kernelspec": {
   "display_name": "Python 3 (ipykernel)",
   "language": "python",
   "name": "python3"
  },
  "language_info": {
   "codemirror_mode": {
    "name": "ipython",
    "version": 3
   },
   "file_extension": ".py",
   "mimetype": "text/x-python",
   "name": "python",
   "nbconvert_exporter": "python",
   "pygments_lexer": "ipython3",
   "version": "3.11.5"
  }
 },
 "nbformat": 4,
 "nbformat_minor": 5
}
